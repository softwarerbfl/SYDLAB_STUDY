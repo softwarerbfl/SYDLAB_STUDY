{
  "nbformat": 4,
  "nbformat_minor": 0,
  "metadata": {
    "colab": {
      "provenance": []
    },
    "kernelspec": {
      "name": "python3",
      "display_name": "Python 3"
    },
    "language_info": {
      "name": "python"
    }
  },
  "cells": [
    {
      "cell_type": "code",
      "source": [
        "!pip install einops"
      ],
      "metadata": {
        "colab": {
          "base_uri": "https://localhost:8080/"
        },
        "id": "aQ-7WL_K31Ol",
        "outputId": "22f508d2-0aae-4f58-9663-ad9e6160359f"
      },
      "execution_count": null,
      "outputs": [
        {
          "output_type": "stream",
          "name": "stdout",
          "text": [
            "Collecting einops\n",
            "  Downloading einops-0.8.0-py3-none-any.whl (43 kB)\n",
            "\u001b[?25l     \u001b[90m━━━━━━━━━━━━━━━━━━━━━━━━━━━━━━━━━━━━━━━━\u001b[0m \u001b[32m0.0/43.2 kB\u001b[0m \u001b[31m?\u001b[0m eta \u001b[36m-:--:--\u001b[0m\r\u001b[2K     \u001b[90m━━━━━━━━━━━━━━━━━━━━━━━━━━━━━━━━━━━━━━━━\u001b[0m \u001b[32m43.2/43.2 kB\u001b[0m \u001b[31m1.5 MB/s\u001b[0m eta \u001b[36m0:00:00\u001b[0m\n",
            "\u001b[?25hInstalling collected packages: einops\n",
            "Successfully installed einops-0.8.0\n"
          ]
        }
      ]
    },
    {
      "cell_type": "code",
      "execution_count": null,
      "metadata": {
        "id": "g5mSAHWb2vlr"
      },
      "outputs": [],
      "source": [
        "import torch\n",
        "import torch.nn.functional as F\n",
        "import matplotlib.pyplot as plt\n",
        "\n",
        "from torch import nn\n",
        "from torch import Tensor\n",
        "from PIL import Image\n",
        "from torchvision.transforms import Compose, Resize, ToTensor\n",
        "from einops import rearrange, reduce, repeat\n",
        "from einops.layers.torch import Rearrange, Reduce\n",
        "from torchsummary import summary"
      ]
    },
    {
      "cell_type": "markdown",
      "source": [
        "# 1. Project input to patches\n",
        "\n",
        "입력 이미지를 패치로 나누기"
      ],
      "metadata": {
        "id": "THaQ9iYg4LbB"
      }
    },
    {
      "cell_type": "markdown",
      "source": [
        "batch 사이즈가 8이고, 3채널, 각 채널이 224x224 이미지라는 것을 의미\n",
        "\n",
        "`rearrange()` 설명\n",
        "- 'b': batch size\n",
        "- 'c': 채널 수\n",
        "- '(h, s1)': 높이를 's1' 크기의 패치로 나눈다.\n",
        "- '(w s2)': 너비를 's2' 크기의 패치로 나눈다."
      ],
      "metadata": {
        "id": "yY53MYxb4cVw"
      }
    },
    {
      "cell_type": "code",
      "source": [
        "## input ##\n",
        "x = torch.randn(8, 3, 224, 224)\n",
        "print('x :', x.shape)\n",
        "\n",
        "patch_size = 16 # 16x16 pixel patch\n",
        "patches = rearrange(x, 'b c (h s1) (w s2) -> b (h w) (s1 s2 c)',   # reshape 과정\n",
        "                    s1=patch_size, s2=patch_size)\n",
        "print('patches :', patches.shape)"
      ],
      "metadata": {
        "colab": {
          "base_uri": "https://localhost:8080/"
        },
        "id": "vchpevKv3wix",
        "outputId": "a373a1c4-714e-4757-cc04-d36c75a84c68"
      },
      "execution_count": null,
      "outputs": [
        {
          "output_type": "stream",
          "name": "stdout",
          "text": [
            "x : torch.Size([8, 3, 224, 224])\n",
            "patches : torch.Size([8, 196, 768])\n"
          ]
        }
      ]
    },
    {
      "cell_type": "markdown",
      "source": [
        "`nn.Conv2d()`\n",
        "- in_channels: 입력 이미지의 채널 수\n",
        "- emb_size: 출력 채널 수\n",
        "- kernel_size: 커널의 크기\n",
        "- stride: 필터의 이동 간격"
      ],
      "metadata": {
        "id": "As2DevLSBOmf"
      }
    },
    {
      "cell_type": "code",
      "source": [
        "patch_size = 16\n",
        "in_channels = 3\n",
        "emb_size = 768 # channel * patch_size * patch_size = 패치의 임베딩 크기\n",
        "\n",
        "# 입력 이미지에 대한 2차원 Convolution 연산을 수행\n",
        "projection = nn.Sequential(\n",
        "    nn.Conv2d(in_channels, emb_size,\n",
        "              kernel_size=patch_size, stride=patch_size), # torch.Size([8, 768, 14, 14])\n",
        "    Rearrange('b e (h) (w) -> b (h w) e'))\n",
        "\n",
        "summary(projection, x.shape[1:], device='cpu')"
      ],
      "metadata": {
        "colab": {
          "base_uri": "https://localhost:8080/"
        },
        "id": "7-Dj6Umm4n3o",
        "outputId": "0b076d10-f4ea-425a-cc9c-b41dc18d0a20"
      },
      "execution_count": null,
      "outputs": [
        {
          "output_type": "stream",
          "name": "stdout",
          "text": [
            "----------------------------------------------------------------\n",
            "        Layer (type)               Output Shape         Param #\n",
            "================================================================\n",
            "            Conv2d-1          [-1, 768, 14, 14]         590,592\n",
            "         Rearrange-2             [-1, 196, 768]               0\n",
            "================================================================\n",
            "Total params: 590,592\n",
            "Trainable params: 590,592\n",
            "Non-trainable params: 0\n",
            "----------------------------------------------------------------\n",
            "Input size (MB): 0.57\n",
            "Forward/backward pass size (MB): 2.30\n",
            "Params size (MB): 2.25\n",
            "Estimated Total Size (MB): 5.12\n",
            "----------------------------------------------------------------\n"
          ]
        }
      ]
    },
    {
      "cell_type": "markdown",
      "source": [
        "# 2. Patches Embedding\n",
        "\n",
        "patches에 class token과 positional embedding을 넣어줍니다.\n",
        "\n",
        "\n",
        "class token은 어떤 클래스인지 학습하기 위한 파라미터이고,\n",
        "positional은 패치가 어떤 위치에 있는지 알기 위한 학습 가능한 파라미터입니다.\n"
      ],
      "metadata": {
        "id": "1RT8xngjAIC0"
      }
    },
    {
      "cell_type": "markdown",
      "source": [
        "projection(x)\n",
        "- x를 사용하여 패치로 나누고, 각 패치를 임베딩하는 과정 수행\n",
        "\n",
        "projected_x\n",
        "- shape가 (8. 196. 768)일 것이다.\n",
        "- 196은 img_size // patch_size의 제곱에 해당"
      ],
      "metadata": {
        "id": "SCYSe8d3ClDy"
      }
    },
    {
      "cell_type": "markdown",
      "source": [
        "`cls_token`\n",
        "- nn.Parameter를 사용하여 생성된 파라미터\n",
        "- (1. 1. 768)의 shape을 가질 것\n",
        "- 클래스 토큰\n",
        "\n",
        "`positions`\n",
        "- nn.Parameter를 사용하여 생성된 파라미터\n",
        "- (197, 768)의 shape를 가질 것\n",
        "    - 197은 patch의 개수에 1을 더한 것으로 마지막에 추가된 1은 전체 이미지의 위치를 나타내는 위치 인코딩을 위한 것\n",
        "- 위치 인코딩을 위한 파라미터\n"
      ],
      "metadata": {
        "id": "HJuIZ4a2DSmI"
      }
    },
    {
      "cell_type": "code",
      "source": [
        "emb_size = 768\n",
        "img_size = 224\n",
        "patch_size = 16\n",
        "\n",
        "# 이미지를 패치사이즈로 나누고 flatten\n",
        "projected_x = projection(x)\n",
        "print('Projected X shape :', projected_x.shape) # 배치 사이즈, 높이x너비, 출력 채널 수 (768)\n",
        "\n",
        "# cls_token과 pos encoding Parameter 정의\n",
        "cls_token = nn.Parameter(torch.randn(1,1, emb_size))\n",
        "positions = nn.Parameter(torch.randn((img_size // patch_size) **2 + 1, emb_size))\n",
        "print('Cls Shape :', cls_token.shape, ', Pos Shape :', positions.shape)\n",
        "\n",
        "# cls_token을 반복하여 배치사이즈의 크기와 맞춰줌\n",
        "batch_size = 8\n",
        "cls_tokens = repeat(cls_token, '() n e -> b n e', b=batch_size)\n",
        "print('Repeated Cls shape :', cls_tokens.shape)\n",
        "\n",
        "# cls_token과 projected_x를 concatenate\n",
        "cat_x = torch.cat([cls_tokens, projected_x], dim=1)\n",
        "\n",
        "# position encoding을 더해줌\n",
        "cat_x += positions\n",
        "print('output : ', cat_x.shape)"
      ],
      "metadata": {
        "colab": {
          "base_uri": "https://localhost:8080/"
        },
        "id": "_Shx363j4n1i",
        "outputId": "30c1e87c-387c-42c8-85ee-1326b99f5aac"
      },
      "execution_count": null,
      "outputs": [
        {
          "output_type": "stream",
          "name": "stdout",
          "text": [
            "Projected X shape : torch.Size([8, 196, 768])\n",
            "Cls Shape : torch.Size([1, 1, 768]) , Pos Shape : torch.Size([197, 768])\n",
            "Repeated Cls shape : torch.Size([8, 1, 768])\n",
            "output :  torch.Size([8, 197, 768])\n"
          ]
        }
      ]
    },
    {
      "cell_type": "markdown",
      "source": [
        "이를 클래스 형태로 만들어주었다."
      ],
      "metadata": {
        "id": "HtPY1_ntGPcH"
      }
    },
    {
      "cell_type": "markdown",
      "source": [
        "초기화 단계 `__init__`\n",
        "\n",
        "\n",
        "1. 프로젝션 계층\n",
        "    - 2D convolution layers로, 입력 이미지를 패치 크기로 나누고 각 패치를 임베딩 크기로 변환\n",
        "    - Rearrange()로 텐서 모양으로 (batch_size, num_patches, emb_size)로 재구성\n",
        "2. 클래스 토큰과 위치 인코딩\n",
        "    - cls_token: 클래스 토큰으로 사용되는 파라미터 (1, 1, 768)\n",
        "    - positions: 위치 인코딩을 위한 파라미터 ((img_size // patch_size)**2 + 1, 768)"
      ],
      "metadata": {
        "id": "Pulq1jqrHaKK"
      }
    },
    {
      "cell_type": "markdown",
      "source": [
        "forward() : 입력 텐서를 받아 패치 임베딩과 위치 인코딩을 수행"
      ],
      "metadata": {
        "id": "TtvC-Vw1IhEN"
      }
    },
    {
      "cell_type": "code",
      "source": [
        "class PatchEmbedding(nn.Module):\n",
        "    def __init__(self, in_channels: int = 3, patch_size: int = 16,\n",
        "                 emb_size: int = 768, img_size: int = 224):\n",
        "        self.patch_size = patch_size\n",
        "        super().__init__()\n",
        "        self.projection = nn.Sequential(\n",
        "            # using a conv layer instead of a linear one -> performance gains\n",
        "            nn.Conv2d(in_channels, emb_size, kernel_size=patch_size, stride=patch_size),\n",
        "            Rearrange('b e (h) (w) -> b (h w) e'))\n",
        "        self.cls_token = nn.Parameter(torch.randn(1,1, emb_size))\n",
        "        self.positions = nn.Parameter(torch.randn((img_size // patch_size) **2 + 1, emb_size))\n",
        "\n",
        "    def forward(self, x: Tensor) -> Tensor:\n",
        "        b, _, _, _ = x.shape\n",
        "        x = self.projection(x)\n",
        "        cls_tokens = repeat(self.cls_token, '() n e -> b n e', b=b)\n",
        "        # prepend the cls token to the input\n",
        "        x = torch.cat([cls_tokens, x], dim=1)\n",
        "        # add position embedding\n",
        "        x += self.positions\n",
        "\n",
        "        return x\n",
        "\n",
        "PE = PatchEmbedding()\n",
        "summary(PE, (3, 224, 224), device='cpu')"
      ],
      "metadata": {
        "colab": {
          "base_uri": "https://localhost:8080/"
        },
        "id": "5edV7PY34SBS",
        "outputId": "65924e15-94df-479e-d6ee-4851f372ff4e"
      },
      "execution_count": null,
      "outputs": [
        {
          "output_type": "stream",
          "name": "stdout",
          "text": [
            "----------------------------------------------------------------\n",
            "        Layer (type)               Output Shape         Param #\n",
            "================================================================\n",
            "            Conv2d-1          [-1, 768, 14, 14]         590,592\n",
            "         Rearrange-2             [-1, 196, 768]               0\n",
            "================================================================\n",
            "Total params: 590,592\n",
            "Trainable params: 590,592\n",
            "Non-trainable params: 0\n",
            "----------------------------------------------------------------\n",
            "Input size (MB): 0.57\n",
            "Forward/backward pass size (MB): 2.30\n",
            "Params size (MB): 2.25\n",
            "Estimated Total Size (MB): 5.12\n",
            "----------------------------------------------------------------\n"
          ]
        }
      ]
    },
    {
      "cell_type": "markdown",
      "source": [
        "# 3. Multi Head Attention (MHA)\n",
        "패치들에 대해 self-attention 메커니즘을 적용\n"
      ],
      "metadata": {
        "id": "ajPgW4zcHOK-"
      }
    },
    {
      "cell_type": "markdown",
      "source": [
        "![image.png](data:image/png;base64,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)"
      ],
      "metadata": {
        "id": "LPs47tlmHURq"
      }
    },
    {
      "cell_type": "markdown",
      "source": [
        "**Multi Head Attention의 준비 과정**\n",
        "\n",
        "\n",
        "\n",
        "주어진 이미지를 Patch Embedding으로 변환하고, 각 패치를 attention key, query, value으로 변환한 후, 이를 Multi Head 형태로 재구성합니다.\n"
      ],
      "metadata": {
        "id": "_b6DOeqXKOuD"
      }
    },
    {
      "cell_type": "code",
      "source": [
        "emb_size = 768\n",
        "num_heads = 8 # Multi head attention의 헤드 수\n",
        "\n",
        "# 선형 변환 레이어 정의\n",
        "keys = nn.Linear(emb_size, emb_size)\n",
        "queries = nn.Linear(emb_size, emb_size)\n",
        "values = nn.Linear(emb_size, emb_size)\n",
        "print(keys, queries, values)\n",
        "\n",
        "# 입력 텐서 변환\n",
        "x = PE(x)\n",
        "print(queries(x).shape) # batch, n, emb_size\n",
        "\n",
        "# Multi Head Attention 준비\n",
        "queries = rearrange(queries(x), \"b n (h d) -> b h n d\", h=num_heads) # -> batch, head, n, emb_size/head\n",
        "keys = rearrange(keys(x), \"b n (h d) -> b h n d\", h=num_heads)\n",
        "values  = rearrange(values(x), \"b n (h d) -> b h n d\", h=num_heads)\n",
        "\n",
        "print('shape :', queries.shape, keys.shape, values.shape)"
      ],
      "metadata": {
        "colab": {
          "base_uri": "https://localhost:8080/"
        },
        "id": "qsFbOlmrHWSy",
        "outputId": "a5509a99-75aa-4fd4-f899-b7e94cdc5702"
      },
      "execution_count": null,
      "outputs": [
        {
          "output_type": "stream",
          "name": "stdout",
          "text": [
            "Linear(in_features=768, out_features=768, bias=True) Linear(in_features=768, out_features=768, bias=True) Linear(in_features=768, out_features=768, bias=True)\n",
            "torch.Size([8, 197, 768])\n",
            "shape : torch.Size([8, 8, 197, 96]) torch.Size([8, 8, 197, 96]) torch.Size([8, 8, 197, 96])\n"
          ]
        }
      ]
    },
    {
      "cell_type": "code",
      "source": [
        "# Queries * Keys\n",
        "energy = torch.einsum('bhqd, bhkd -> bhqk', queries, keys)\n",
        "print('energy :', energy.shape)\n",
        "\n",
        "# Get Attention Score\n",
        "scaling = emb_size ** (1/2)\n",
        "att = F.softmax(energy/scaling, dim=-1)\n",
        "print('att :', att.shape)\n",
        "\n",
        "# Attention Score * values\n",
        "out = torch.einsum('bhal, bhlv -> bhav ', att, values)\n",
        "print('out :', out.shape)\n",
        "\n",
        "# Rearrage to emb_size\n",
        "out = rearrange(out, \"b h n d -> b n (h d)\")\n",
        "print('out2 : ', out.shape)"
      ],
      "metadata": {
        "colab": {
          "base_uri": "https://localhost:8080/"
        },
        "id": "3VWltKE5KArZ",
        "outputId": "7bef6050-301d-464a-c4ed-6fca6a02f1d6"
      },
      "execution_count": null,
      "outputs": [
        {
          "output_type": "stream",
          "name": "stdout",
          "text": [
            "energy : torch.Size([8, 8, 197, 197])\n",
            "att : torch.Size([8, 8, 197, 197])\n",
            "out : torch.Size([8, 8, 197, 96])\n",
            "out2 :  torch.Size([8, 197, 768])\n"
          ]
        }
      ]
    },
    {
      "cell_type": "markdown",
      "source": [
        "1. Key,Query, Value는 모두 같은 값은 input으로 받고\n",
        "2. Linear layer를 통과하여 self-attention이 적용된 후 ,\n",
        "3. 스케일링되고,\n",
        "4. value와의 연산 후 input 형태와 동일하게 reshape해주어 아웃풋으로 나온다."
      ],
      "metadata": {
        "id": "Qsny0wp9KFcm"
      }
    },
    {
      "cell_type": "markdown",
      "source": [
        "해당 과정을 클래스로 묶으면 아래와 같다."
      ],
      "metadata": {
        "id": "4QJYFs_JOM9z"
      }
    },
    {
      "cell_type": "code",
      "source": [
        "class MultiHeadAttention(nn.Module):\n",
        "    def __init__(self, emb_size: int = 768, num_heads: int = 8, dropout: float = 0):\n",
        "        super().__init__()\n",
        "        self.emb_size = emb_size\n",
        "        self.num_heads = num_heads\n",
        "        # fuse the queries, keys and values in one matrix\n",
        "        self.qkv = nn.Linear(emb_size, emb_size * 3)\n",
        "        self.att_drop = nn.Dropout(dropout)\n",
        "        self.projection = nn.Linear(emb_size, emb_size)\n",
        "\n",
        "    def forward(self, x : Tensor, mask: Tensor = None) -> Tensor:\n",
        "        # split keys, queries and values in num_heads\n",
        "        qkv = rearrange(self.qkv(x), \"b n (h d qkv) -> (qkv) b h n d\", h=self.num_heads, qkv=3)\n",
        "        queries, keys, values = qkv[0], qkv[1], qkv[2]\n",
        "        # sum up over the last axis\n",
        "        energy = torch.einsum('bhqd, bhkd -> bhqk', queries, keys) # batch, num_heads, query_len, key_len\n",
        "        if mask is not None:\n",
        "            fill_value = torch.finfo(torch.float32).min\n",
        "            energy.mask_fill(~mask, fill_value)\n",
        "\n",
        "        scaling = self.emb_size ** (1/2)\n",
        "        att = F.softmax(energy / scaling, dim=-1)\n",
        "        att = self.att_drop(att)\n",
        "        # sum up over the third axis\n",
        "        out = torch.einsum('bhal, bhlv -> bhav ', att, values)\n",
        "        out = rearrange(out, \"b h n d -> b n (h d)\")\n",
        "        out = self.projection(out)\n",
        "        return out\n",
        "\n",
        "\n",
        "x = torch.randn(8, 3, 224, 224)\n",
        "PE = PatchEmbedding()\n",
        "x = PE(x)\n",
        "print(x.shape)\n",
        "MHA = MultiHeadAttention()\n",
        "summary(MHA, x.shape[1:], device='cpu')"
      ],
      "metadata": {
        "colab": {
          "base_uri": "https://localhost:8080/"
        },
        "id": "jYQ37HevKBGu",
        "outputId": "9783f984-2996-4a3a-e375-16fc6918e9f1"
      },
      "execution_count": null,
      "outputs": [
        {
          "output_type": "stream",
          "name": "stdout",
          "text": [
            "torch.Size([8, 197, 768])\n",
            "----------------------------------------------------------------\n",
            "        Layer (type)               Output Shape         Param #\n",
            "================================================================\n",
            "            Linear-1            [-1, 197, 2304]       1,771,776\n",
            "           Dropout-2          [-1, 8, 197, 197]               0\n",
            "            Linear-3             [-1, 197, 768]         590,592\n",
            "================================================================\n",
            "Total params: 2,362,368\n",
            "Trainable params: 2,362,368\n",
            "Non-trainable params: 0\n",
            "----------------------------------------------------------------\n",
            "Input size (MB): 0.58\n",
            "Forward/backward pass size (MB): 6.99\n",
            "Params size (MB): 9.01\n",
            "Estimated Total Size (MB): 16.57\n",
            "----------------------------------------------------------------\n"
          ]
        }
      ]
    },
    {
      "cell_type": "markdown",
      "source": [
        "# 4. Transformer Encoder Block\n",
        "\n",
        "아래 그림처럼 하나의 블럭으로 만들기 위해,\n",
        "MLP(Feed forward)블록을 만들어주고, MHA와 하나로 묶어준다."
      ],
      "metadata": {
        "id": "BIxFK_POOUWs"
      }
    },
    {
      "cell_type": "markdown",
      "source": [
        "![image.png](data:image/png;base64,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)"
      ],
      "metadata": {
        "id": "jFqqSXQJOhV3"
      }
    },
    {
      "cell_type": "markdown",
      "source": [
        "- `ResidualAdd`\n",
        "    - 잔차 연결 구현\n",
        "- `FeedForwardBlock`\n",
        "    - 2개의 선형 레이어와 비선형 활성화 함수(GELU)로 구성된 피드포워드 신경망\n",
        "    - 입력 임베딩 크기(emb_size)를 확장(expansion*expansion)하고, 활성화 함수와 dropout을 적용한 후, 다시 원래 크기로 축소\n",
        "- `TransformerEncoderBlock`\n",
        "    - Transformer의 EncoderBlock을 정의한다.\n",
        "    - 2개의 잔차 연결 블록으로 구성\n",
        "        1. 첫 번째 블록\n",
        "            - Layer Normalization\n",
        "            - Multi-head attention\n",
        "            - Dropout\n",
        "        2. 두 번째 블록\n",
        "            - Layer Normalization\n",
        "            - FeedForwardBlock\n",
        "            - Dropout\n",
        "    "
      ],
      "metadata": {
        "id": "X1yBUw2xPcyl"
      }
    },
    {
      "cell_type": "code",
      "source": [
        "class ResidualAdd(nn.Module):\n",
        "    def __init__(self, fn):\n",
        "        super().__init__()\n",
        "        self.fn = fn\n",
        "\n",
        "    def forward(self, x, **kwargs):\n",
        "        res = x\n",
        "        x = self.fn(x, **kwargs)\n",
        "        x += res\n",
        "        return x\n",
        "\n",
        "class FeedForwardBlock(nn.Sequential):\n",
        "    def __init__(self, emb_size: int, expansion: int = 4, drop_p: float = 0.):\n",
        "        super().__init__(\n",
        "            nn.Linear(emb_size, expansion * emb_size),\n",
        "            nn.GELU(),\n",
        "            nn.Dropout(drop_p),\n",
        "            nn.Linear(expansion * emb_size, emb_size),\n",
        "        )\n",
        "\n",
        "class TransformerEncoderBlock(nn.Sequential):\n",
        "    def __init__(self,\n",
        "                 emb_size: int = 768,\n",
        "                 drop_p: float = 0.,\n",
        "                 forward_expansion: int = 4,\n",
        "                 forward_drop_p: float = 0.,\n",
        "                 ** kwargs):\n",
        "        super().__init__(\n",
        "            ResidualAdd(nn.Sequential(\n",
        "                nn.LayerNorm(emb_size),\n",
        "                MultiHeadAttention(emb_size, **kwargs),\n",
        "                nn.Dropout(drop_p)\n",
        "            )),\n",
        "            ResidualAdd(nn.Sequential(\n",
        "                nn.LayerNorm(emb_size),\n",
        "                FeedForwardBlock(\n",
        "                    emb_size, expansion=forward_expansion, drop_p=forward_drop_p),\n",
        "                nn.Dropout(drop_p)\n",
        "            )\n",
        "            ))\n",
        "\n",
        "x = torch.randn(8, 3, 224, 224)\n",
        "x = PE(x) # 패치 임베딩\n",
        "x = MHA(x) # Multi-Head Attention\n",
        "TE = TransformerEncoderBlock() # Tranasformer Encoder 수행\n",
        "summary(TE, x.shape[1:], device='cpu')"
      ],
      "metadata": {
        "colab": {
          "base_uri": "https://localhost:8080/"
        },
        "id": "2OxSZ3NbOjbC",
        "outputId": "12a14206-adca-485f-d991-669b69bf81ea"
      },
      "execution_count": null,
      "outputs": [
        {
          "output_type": "stream",
          "name": "stdout",
          "text": [
            "----------------------------------------------------------------\n",
            "        Layer (type)               Output Shape         Param #\n",
            "================================================================\n",
            "         LayerNorm-1             [-1, 197, 768]           1,536\n",
            "            Linear-2            [-1, 197, 2304]       1,771,776\n",
            "           Dropout-3          [-1, 8, 197, 197]               0\n",
            "            Linear-4             [-1, 197, 768]         590,592\n",
            "MultiHeadAttention-5             [-1, 197, 768]               0\n",
            "           Dropout-6             [-1, 197, 768]               0\n",
            "       ResidualAdd-7             [-1, 197, 768]               0\n",
            "         LayerNorm-8             [-1, 197, 768]           1,536\n",
            "            Linear-9            [-1, 197, 3072]       2,362,368\n",
            "             GELU-10            [-1, 197, 3072]               0\n",
            "          Dropout-11            [-1, 197, 3072]               0\n",
            "           Linear-12             [-1, 197, 768]       2,360,064\n",
            "          Dropout-13             [-1, 197, 768]               0\n",
            "      ResidualAdd-14             [-1, 197, 768]               0\n",
            "================================================================\n",
            "Total params: 7,087,872\n",
            "Trainable params: 7,087,872\n",
            "Non-trainable params: 0\n",
            "----------------------------------------------------------------\n",
            "Input size (MB): 0.58\n",
            "Forward/backward pass size (MB): 30.07\n",
            "Params size (MB): 27.04\n",
            "Estimated Total Size (MB): 57.69\n",
            "----------------------------------------------------------------\n"
          ]
        }
      ]
    },
    {
      "cell_type": "markdown",
      "source": [
        "# 5. 마지막으로 다 묶어서 ViT 빌드\n",
        "\n",
        "classification을 위한 ClassificationHead 만들어 모델의 마지막 단에 넣어준다."
      ],
      "metadata": {
        "id": "xd7idI-BOuW6"
      }
    },
    {
      "cell_type": "code",
      "source": [
        "class TransformerEncoder(nn.Sequential):\n",
        "    def __init__(self, depth: int = 12, **kwargs):\n",
        "        super().__init__(*[TransformerEncoderBlock(**kwargs) for _ in range(depth)])\n",
        "\n",
        "class ClassificationHead(nn.Sequential):\n",
        "    def __init__(self, emb_size: int = 768, n_classes: int = 1000):\n",
        "        super().__init__(\n",
        "            Reduce('b n e -> b e', reduction='mean'),\n",
        "            nn.LayerNorm(emb_size),\n",
        "            nn.Linear(emb_size, n_classes))\n",
        "\n",
        "class ViT(nn.Sequential):\n",
        "    def __init__(self,\n",
        "                in_channels: int = 3,\n",
        "                patch_size: int = 16,\n",
        "                emb_size: int = 768,\n",
        "                img_size: int = 224,\n",
        "                depth: int = 12,\n",
        "                n_classes: int = 1000,\n",
        "                **kwargs):\n",
        "        super().__init__(\n",
        "            PatchEmbedding(in_channels, patch_size, emb_size, img_size),\n",
        "            TransformerEncoder(depth, emb_size=emb_size, **kwargs),\n",
        "            ClassificationHead(emb_size, n_classes)\n",
        "        )\n",
        "\n",
        "summary(ViT(), (3, 224, 224), device='cpu')"
      ],
      "metadata": {
        "colab": {
          "base_uri": "https://localhost:8080/"
        },
        "id": "b2vQdKn7O3ji",
        "outputId": "ca623a7d-2d91-440f-88ab-5e9178fe064b"
      },
      "execution_count": null,
      "outputs": [
        {
          "output_type": "stream",
          "name": "stdout",
          "text": [
            "----------------------------------------------------------------\n",
            "        Layer (type)               Output Shape         Param #\n",
            "================================================================\n",
            "            Conv2d-1          [-1, 768, 14, 14]         590,592\n",
            "         Rearrange-2             [-1, 196, 768]               0\n",
            "    PatchEmbedding-3             [-1, 197, 768]               0\n",
            "         LayerNorm-4             [-1, 197, 768]           1,536\n",
            "            Linear-5            [-1, 197, 2304]       1,771,776\n",
            "           Dropout-6          [-1, 8, 197, 197]               0\n",
            "            Linear-7             [-1, 197, 768]         590,592\n",
            "MultiHeadAttention-8             [-1, 197, 768]               0\n",
            "           Dropout-9             [-1, 197, 768]               0\n",
            "      ResidualAdd-10             [-1, 197, 768]               0\n",
            "        LayerNorm-11             [-1, 197, 768]           1,536\n",
            "           Linear-12            [-1, 197, 3072]       2,362,368\n",
            "             GELU-13            [-1, 197, 3072]               0\n",
            "          Dropout-14            [-1, 197, 3072]               0\n",
            "           Linear-15             [-1, 197, 768]       2,360,064\n",
            "          Dropout-16             [-1, 197, 768]               0\n",
            "      ResidualAdd-17             [-1, 197, 768]               0\n",
            "        LayerNorm-18             [-1, 197, 768]           1,536\n",
            "           Linear-19            [-1, 197, 2304]       1,771,776\n",
            "          Dropout-20          [-1, 8, 197, 197]               0\n",
            "           Linear-21             [-1, 197, 768]         590,592\n",
            "MultiHeadAttention-22             [-1, 197, 768]               0\n",
            "          Dropout-23             [-1, 197, 768]               0\n",
            "      ResidualAdd-24             [-1, 197, 768]               0\n",
            "        LayerNorm-25             [-1, 197, 768]           1,536\n",
            "           Linear-26            [-1, 197, 3072]       2,362,368\n",
            "             GELU-27            [-1, 197, 3072]               0\n",
            "          Dropout-28            [-1, 197, 3072]               0\n",
            "           Linear-29             [-1, 197, 768]       2,360,064\n",
            "          Dropout-30             [-1, 197, 768]               0\n",
            "      ResidualAdd-31             [-1, 197, 768]               0\n",
            "        LayerNorm-32             [-1, 197, 768]           1,536\n",
            "           Linear-33            [-1, 197, 2304]       1,771,776\n",
            "          Dropout-34          [-1, 8, 197, 197]               0\n",
            "           Linear-35             [-1, 197, 768]         590,592\n",
            "MultiHeadAttention-36             [-1, 197, 768]               0\n",
            "          Dropout-37             [-1, 197, 768]               0\n",
            "      ResidualAdd-38             [-1, 197, 768]               0\n",
            "        LayerNorm-39             [-1, 197, 768]           1,536\n",
            "           Linear-40            [-1, 197, 3072]       2,362,368\n",
            "             GELU-41            [-1, 197, 3072]               0\n",
            "          Dropout-42            [-1, 197, 3072]               0\n",
            "           Linear-43             [-1, 197, 768]       2,360,064\n",
            "          Dropout-44             [-1, 197, 768]               0\n",
            "      ResidualAdd-45             [-1, 197, 768]               0\n",
            "        LayerNorm-46             [-1, 197, 768]           1,536\n",
            "           Linear-47            [-1, 197, 2304]       1,771,776\n",
            "          Dropout-48          [-1, 8, 197, 197]               0\n",
            "           Linear-49             [-1, 197, 768]         590,592\n",
            "MultiHeadAttention-50             [-1, 197, 768]               0\n",
            "          Dropout-51             [-1, 197, 768]               0\n",
            "      ResidualAdd-52             [-1, 197, 768]               0\n",
            "        LayerNorm-53             [-1, 197, 768]           1,536\n",
            "           Linear-54            [-1, 197, 3072]       2,362,368\n",
            "             GELU-55            [-1, 197, 3072]               0\n",
            "          Dropout-56            [-1, 197, 3072]               0\n",
            "           Linear-57             [-1, 197, 768]       2,360,064\n",
            "          Dropout-58             [-1, 197, 768]               0\n",
            "      ResidualAdd-59             [-1, 197, 768]               0\n",
            "        LayerNorm-60             [-1, 197, 768]           1,536\n",
            "           Linear-61            [-1, 197, 2304]       1,771,776\n",
            "          Dropout-62          [-1, 8, 197, 197]               0\n",
            "           Linear-63             [-1, 197, 768]         590,592\n",
            "MultiHeadAttention-64             [-1, 197, 768]               0\n",
            "          Dropout-65             [-1, 197, 768]               0\n",
            "      ResidualAdd-66             [-1, 197, 768]               0\n",
            "        LayerNorm-67             [-1, 197, 768]           1,536\n",
            "           Linear-68            [-1, 197, 3072]       2,362,368\n",
            "             GELU-69            [-1, 197, 3072]               0\n",
            "          Dropout-70            [-1, 197, 3072]               0\n",
            "           Linear-71             [-1, 197, 768]       2,360,064\n",
            "          Dropout-72             [-1, 197, 768]               0\n",
            "      ResidualAdd-73             [-1, 197, 768]               0\n",
            "        LayerNorm-74             [-1, 197, 768]           1,536\n",
            "           Linear-75            [-1, 197, 2304]       1,771,776\n",
            "          Dropout-76          [-1, 8, 197, 197]               0\n",
            "           Linear-77             [-1, 197, 768]         590,592\n",
            "MultiHeadAttention-78             [-1, 197, 768]               0\n",
            "          Dropout-79             [-1, 197, 768]               0\n",
            "      ResidualAdd-80             [-1, 197, 768]               0\n",
            "        LayerNorm-81             [-1, 197, 768]           1,536\n",
            "           Linear-82            [-1, 197, 3072]       2,362,368\n",
            "             GELU-83            [-1, 197, 3072]               0\n",
            "          Dropout-84            [-1, 197, 3072]               0\n",
            "           Linear-85             [-1, 197, 768]       2,360,064\n",
            "          Dropout-86             [-1, 197, 768]               0\n",
            "      ResidualAdd-87             [-1, 197, 768]               0\n",
            "        LayerNorm-88             [-1, 197, 768]           1,536\n",
            "           Linear-89            [-1, 197, 2304]       1,771,776\n",
            "          Dropout-90          [-1, 8, 197, 197]               0\n",
            "           Linear-91             [-1, 197, 768]         590,592\n",
            "MultiHeadAttention-92             [-1, 197, 768]               0\n",
            "          Dropout-93             [-1, 197, 768]               0\n",
            "      ResidualAdd-94             [-1, 197, 768]               0\n",
            "        LayerNorm-95             [-1, 197, 768]           1,536\n",
            "           Linear-96            [-1, 197, 3072]       2,362,368\n",
            "             GELU-97            [-1, 197, 3072]               0\n",
            "          Dropout-98            [-1, 197, 3072]               0\n",
            "           Linear-99             [-1, 197, 768]       2,360,064\n",
            "         Dropout-100             [-1, 197, 768]               0\n",
            "     ResidualAdd-101             [-1, 197, 768]               0\n",
            "       LayerNorm-102             [-1, 197, 768]           1,536\n",
            "          Linear-103            [-1, 197, 2304]       1,771,776\n",
            "         Dropout-104          [-1, 8, 197, 197]               0\n",
            "          Linear-105             [-1, 197, 768]         590,592\n",
            "MultiHeadAttention-106             [-1, 197, 768]               0\n",
            "         Dropout-107             [-1, 197, 768]               0\n",
            "     ResidualAdd-108             [-1, 197, 768]               0\n",
            "       LayerNorm-109             [-1, 197, 768]           1,536\n",
            "          Linear-110            [-1, 197, 3072]       2,362,368\n",
            "            GELU-111            [-1, 197, 3072]               0\n",
            "         Dropout-112            [-1, 197, 3072]               0\n",
            "          Linear-113             [-1, 197, 768]       2,360,064\n",
            "         Dropout-114             [-1, 197, 768]               0\n",
            "     ResidualAdd-115             [-1, 197, 768]               0\n",
            "       LayerNorm-116             [-1, 197, 768]           1,536\n",
            "          Linear-117            [-1, 197, 2304]       1,771,776\n",
            "         Dropout-118          [-1, 8, 197, 197]               0\n",
            "          Linear-119             [-1, 197, 768]         590,592\n",
            "MultiHeadAttention-120             [-1, 197, 768]               0\n",
            "         Dropout-121             [-1, 197, 768]               0\n",
            "     ResidualAdd-122             [-1, 197, 768]               0\n",
            "       LayerNorm-123             [-1, 197, 768]           1,536\n",
            "          Linear-124            [-1, 197, 3072]       2,362,368\n",
            "            GELU-125            [-1, 197, 3072]               0\n",
            "         Dropout-126            [-1, 197, 3072]               0\n",
            "          Linear-127             [-1, 197, 768]       2,360,064\n",
            "         Dropout-128             [-1, 197, 768]               0\n",
            "     ResidualAdd-129             [-1, 197, 768]               0\n",
            "       LayerNorm-130             [-1, 197, 768]           1,536\n",
            "          Linear-131            [-1, 197, 2304]       1,771,776\n",
            "         Dropout-132          [-1, 8, 197, 197]               0\n",
            "          Linear-133             [-1, 197, 768]         590,592\n",
            "MultiHeadAttention-134             [-1, 197, 768]               0\n",
            "         Dropout-135             [-1, 197, 768]               0\n",
            "     ResidualAdd-136             [-1, 197, 768]               0\n",
            "       LayerNorm-137             [-1, 197, 768]           1,536\n",
            "          Linear-138            [-1, 197, 3072]       2,362,368\n",
            "            GELU-139            [-1, 197, 3072]               0\n",
            "         Dropout-140            [-1, 197, 3072]               0\n",
            "          Linear-141             [-1, 197, 768]       2,360,064\n",
            "         Dropout-142             [-1, 197, 768]               0\n",
            "     ResidualAdd-143             [-1, 197, 768]               0\n",
            "       LayerNorm-144             [-1, 197, 768]           1,536\n",
            "          Linear-145            [-1, 197, 2304]       1,771,776\n",
            "         Dropout-146          [-1, 8, 197, 197]               0\n",
            "          Linear-147             [-1, 197, 768]         590,592\n",
            "MultiHeadAttention-148             [-1, 197, 768]               0\n",
            "         Dropout-149             [-1, 197, 768]               0\n",
            "     ResidualAdd-150             [-1, 197, 768]               0\n",
            "       LayerNorm-151             [-1, 197, 768]           1,536\n",
            "          Linear-152            [-1, 197, 3072]       2,362,368\n",
            "            GELU-153            [-1, 197, 3072]               0\n",
            "         Dropout-154            [-1, 197, 3072]               0\n",
            "          Linear-155             [-1, 197, 768]       2,360,064\n",
            "         Dropout-156             [-1, 197, 768]               0\n",
            "     ResidualAdd-157             [-1, 197, 768]               0\n",
            "       LayerNorm-158             [-1, 197, 768]           1,536\n",
            "          Linear-159            [-1, 197, 2304]       1,771,776\n",
            "         Dropout-160          [-1, 8, 197, 197]               0\n",
            "          Linear-161             [-1, 197, 768]         590,592\n",
            "MultiHeadAttention-162             [-1, 197, 768]               0\n",
            "         Dropout-163             [-1, 197, 768]               0\n",
            "     ResidualAdd-164             [-1, 197, 768]               0\n",
            "       LayerNorm-165             [-1, 197, 768]           1,536\n",
            "          Linear-166            [-1, 197, 3072]       2,362,368\n",
            "            GELU-167            [-1, 197, 3072]               0\n",
            "         Dropout-168            [-1, 197, 3072]               0\n",
            "          Linear-169             [-1, 197, 768]       2,360,064\n",
            "         Dropout-170             [-1, 197, 768]               0\n",
            "     ResidualAdd-171             [-1, 197, 768]               0\n",
            "          Reduce-172                  [-1, 768]               0\n",
            "       LayerNorm-173                  [-1, 768]           1,536\n",
            "          Linear-174                 [-1, 1000]         769,000\n",
            "================================================================\n",
            "Total params: 86,415,592\n",
            "Trainable params: 86,415,592\n",
            "Non-trainable params: 0\n",
            "----------------------------------------------------------------\n",
            "Input size (MB): 0.57\n",
            "Forward/backward pass size (MB): 364.33\n",
            "Params size (MB): 329.65\n",
            "Estimated Total Size (MB): 694.56\n",
            "----------------------------------------------------------------\n"
          ]
        }
      ]
    }
  ]
}